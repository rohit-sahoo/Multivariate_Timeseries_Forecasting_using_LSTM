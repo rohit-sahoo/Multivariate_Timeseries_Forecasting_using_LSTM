{
 "cells": [
  {
   "cell_type": "markdown",
   "metadata": {},
   "source": [
    "# Multivariate Time Series Forecasting using LSTM"
   ]
  },
  {
   "cell_type": "markdown",
   "metadata": {},
   "source": [
    "**Author:** [Rohit Sahoo](https://www.linkedin.com/in/rohit-sahoo/) <Br>\n",
    "**Date created:** 2021/07/15<Br>\n",
    "**Last modified:** 2021/07/15<Br>\n",
    "**Description:** Multivariate Time Series Forecasting on stock market data using LSTM<Br>"
   ]
  },
  {
   "cell_type": "markdown",
   "metadata": {},
   "source": [
    "# Introduction\n",
    "Time-Series forecasting means predicting the future dependent variable (y) based on the past independent variable (x). If the model predicts a dependent variable (y) based on one independent variable (x), it is called univariate forecasting. Whereas, In Multivariate forecasting, the model predicts a dependent variable (y) based on more than one independent variable (x).\n",
    "\n",
    "This Example implements a time series model for Google's stock market data. In this example, Multivariate time series forecasting is performed by determining the opening price of the stock using the historical opening, closing, highest, lowest and the adjusted closing price. This example uses the LSTM (Long Short-Term Memory) model to predict the opening price of the stock by taking the input shape defined by the window length and these 5 features.\n",
    "\n",
    "A univariable forecast model reduces this complexity to a minimum – a single factor and ignores the other dimensions such as prediction of the opening price of the stock is based only on the historical opening price. Whereas, A multivariate stock market prediction model can consider the relationship between multiple variables. They offer a more detailed abstraction of reality than univariate models. Multivariate models thus tend to provide more accurate predictions than univariate models."
   ]
  },
  {
   "cell_type": "markdown",
   "metadata": {},
   "source": [
    "# Setup"
   ]
  },
  {
   "cell_type": "code",
   "execution_count": 1,
   "metadata": {
    "execution": {
     "iopub.execute_input": "2021-07-15T14:11:18.723294Z",
     "iopub.status.busy": "2021-07-15T14:11:18.722839Z",
     "iopub.status.idle": "2021-07-15T14:11:18.728530Z",
     "shell.execute_reply": "2021-07-15T14:11:18.727535Z",
     "shell.execute_reply.started": "2021-07-15T14:11:18.723256Z"
    },
    "id": "_GY3HgVB7T8D"
   },
   "outputs": [],
   "source": [
    "import pandas as pd\n",
    "import matplotlib as mpl\n",
    "import matplotlib.pyplot as plt\n",
    "from sklearn.model_selection import train_test_split\n",
    "from keras.preprocessing.sequence import TimeseriesGenerator\n",
    "from sklearn.preprocessing import StandardScaler\n",
    "import tensorflow as tf"
   ]
  },
  {
   "cell_type": "markdown",
   "metadata": {},
   "source": [
    "# Load the Data"
   ]
  },
  {
   "cell_type": "markdown",
   "metadata": {},
   "source": [
    "This example uses Google's stock market dataset downloaded from [Yahoo Finance](https://in.finance.yahoo.com/quote/GOOG/history?period1=1092960000&period2=1594944000&interval=1d&filter=history&frequency=1d&includeAdjustedClose=true).\n",
    "\n",
    "**Time-Frame Considered:** 16 Years of data starting from 2004/08/19 to 2020/07/17.\n",
    "\n",
    "**Structure of Dataset**\n",
    "\n",
    "1. Date - specifies trading date\n",
    "2. Open - opening price\n",
    "3. High - maximum price during the day\n",
    "4. Low - minimum price during the day\n",
    "5. Close - close price adjusted for splits\n",
    "6. Adj Close - adjusted close price adjusted for both dividends and splits.\n",
    "7. Volume - the number of shares that changed hands during a given day\n"
   ]
  },
  {
   "cell_type": "code",
   "execution_count": 2,
   "metadata": {
    "execution": {
     "iopub.execute_input": "2021-07-15T14:11:18.744140Z",
     "iopub.status.busy": "2021-07-15T14:11:18.743691Z",
     "iopub.status.idle": "2021-07-15T14:11:18.764852Z",
     "shell.execute_reply": "2021-07-15T14:11:18.763902Z",
     "shell.execute_reply.started": "2021-07-15T14:11:18.744100Z"
    },
    "id": "lmNbWyCJ7n0a"
   },
   "outputs": [],
   "source": [
    "df = pd.read_csv('GOOG.csv')"
   ]
  },
  {
   "cell_type": "code",
   "execution_count": 3,
   "metadata": {
    "execution": {
     "iopub.execute_input": "2021-07-15T14:11:18.784716Z",
     "iopub.status.busy": "2021-07-15T14:11:18.784368Z",
     "iopub.status.idle": "2021-07-15T14:11:18.800816Z",
     "shell.execute_reply": "2021-07-15T14:11:18.799604Z",
     "shell.execute_reply.started": "2021-07-15T14:11:18.784682Z"
    },
    "id": "4MZJsxPq76CN",
    "outputId": "70a9c286-7397-4692-80e3-3276025eb043"
   },
   "outputs": [
    {
     "data": {
      "text/html": [
       "<div>\n",
       "<style scoped>\n",
       "    .dataframe tbody tr th:only-of-type {\n",
       "        vertical-align: middle;\n",
       "    }\n",
       "\n",
       "    .dataframe tbody tr th {\n",
       "        vertical-align: top;\n",
       "    }\n",
       "\n",
       "    .dataframe thead th {\n",
       "        text-align: right;\n",
       "    }\n",
       "</style>\n",
       "<table border=\"1\" class=\"dataframe\">\n",
       "  <thead>\n",
       "    <tr style=\"text-align: right;\">\n",
       "      <th></th>\n",
       "      <th>Date</th>\n",
       "      <th>Open</th>\n",
       "      <th>High</th>\n",
       "      <th>Low</th>\n",
       "      <th>Close</th>\n",
       "      <th>Adj Close</th>\n",
       "      <th>Volume</th>\n",
       "    </tr>\n",
       "  </thead>\n",
       "  <tbody>\n",
       "    <tr>\n",
       "      <th>0</th>\n",
       "      <td>2004-08-19</td>\n",
       "      <td>49.813286</td>\n",
       "      <td>51.835709</td>\n",
       "      <td>47.800831</td>\n",
       "      <td>49.982655</td>\n",
       "      <td>49.982655</td>\n",
       "      <td>44871300</td>\n",
       "    </tr>\n",
       "    <tr>\n",
       "      <th>1</th>\n",
       "      <td>2004-08-20</td>\n",
       "      <td>50.316402</td>\n",
       "      <td>54.336334</td>\n",
       "      <td>50.062355</td>\n",
       "      <td>53.952770</td>\n",
       "      <td>53.952770</td>\n",
       "      <td>22942800</td>\n",
       "    </tr>\n",
       "    <tr>\n",
       "      <th>2</th>\n",
       "      <td>2004-08-23</td>\n",
       "      <td>55.168217</td>\n",
       "      <td>56.528118</td>\n",
       "      <td>54.321388</td>\n",
       "      <td>54.495735</td>\n",
       "      <td>54.495735</td>\n",
       "      <td>18342800</td>\n",
       "    </tr>\n",
       "    <tr>\n",
       "      <th>3</th>\n",
       "      <td>2004-08-24</td>\n",
       "      <td>55.412300</td>\n",
       "      <td>55.591629</td>\n",
       "      <td>51.591621</td>\n",
       "      <td>52.239193</td>\n",
       "      <td>52.239193</td>\n",
       "      <td>15319700</td>\n",
       "    </tr>\n",
       "    <tr>\n",
       "      <th>4</th>\n",
       "      <td>2004-08-25</td>\n",
       "      <td>52.284027</td>\n",
       "      <td>53.798351</td>\n",
       "      <td>51.746044</td>\n",
       "      <td>52.802086</td>\n",
       "      <td>52.802086</td>\n",
       "      <td>9232100</td>\n",
       "    </tr>\n",
       "  </tbody>\n",
       "</table>\n",
       "</div>"
      ],
      "text/plain": [
       "         Date       Open       High        Low      Close  Adj Close    Volume\n",
       "0  2004-08-19  49.813286  51.835709  47.800831  49.982655  49.982655  44871300\n",
       "1  2004-08-20  50.316402  54.336334  50.062355  53.952770  53.952770  22942800\n",
       "2  2004-08-23  55.168217  56.528118  54.321388  54.495735  54.495735  18342800\n",
       "3  2004-08-24  55.412300  55.591629  51.591621  52.239193  52.239193  15319700\n",
       "4  2004-08-25  52.284027  53.798351  51.746044  52.802086  52.802086   9232100"
      ]
     },
     "execution_count": 3,
     "metadata": {},
     "output_type": "execute_result"
    }
   ],
   "source": [
    "df.head()"
   ]
  },
  {
   "cell_type": "code",
   "execution_count": 38,
   "metadata": {
    "execution": {
     "iopub.execute_input": "2021-07-15T14:11:18.807521Z",
     "iopub.status.busy": "2021-07-15T14:11:18.807029Z",
     "iopub.status.idle": "2021-07-15T14:11:18.817767Z",
     "shell.execute_reply": "2021-07-15T14:11:18.816505Z",
     "shell.execute_reply.started": "2021-07-15T14:11:18.807474Z"
    },
    "id": "e_gfpzvA0cJa",
    "outputId": "4583dc1e-5f68-482d-9eed-4adb166dc0de"
   },
   "outputs": [
    {
     "data": {
      "text/plain": [
       "Date          object\n",
       "Open         float64\n",
       "High         float64\n",
       "Low          float64\n",
       "Close        float64\n",
       "Adj Close    float64\n",
       "Volume         int64\n",
       "dtype: object"
      ]
     },
     "execution_count": 38,
     "metadata": {},
     "output_type": "execute_result"
    }
   ],
   "source": [
    "df.dtypes "
   ]
  },
  {
   "cell_type": "markdown",
   "metadata": {},
   "source": [
    "The date column provided in the dataset is of object type, it has to be changed into datetime format."
   ]
  },
  {
   "cell_type": "code",
   "execution_count": 39,
   "metadata": {
    "execution": {
     "iopub.execute_input": "2021-07-15T14:11:18.820804Z",
     "iopub.status.busy": "2021-07-15T14:11:18.820292Z",
     "iopub.status.idle": "2021-07-15T14:11:18.834320Z",
     "shell.execute_reply": "2021-07-15T14:11:18.832773Z",
     "shell.execute_reply.started": "2021-07-15T14:11:18.820755Z"
    },
    "id": "DX4Wjmy08aWn"
   },
   "outputs": [],
   "source": [
    "df['Date'] = pd.to_datetime(df['Date'], infer_datetime_format=True)"
   ]
  },
  {
   "cell_type": "code",
   "execution_count": 40,
   "metadata": {
    "execution": {
     "iopub.execute_input": "2021-07-15T14:11:18.837661Z",
     "iopub.status.busy": "2021-07-15T14:11:18.836953Z",
     "iopub.status.idle": "2021-07-15T14:11:18.879079Z",
     "shell.execute_reply": "2021-07-15T14:11:18.878057Z",
     "shell.execute_reply.started": "2021-07-15T14:11:18.837597Z"
    }
   },
   "outputs": [
    {
     "data": {
      "text/html": [
       "<div>\n",
       "<style scoped>\n",
       "    .dataframe tbody tr th:only-of-type {\n",
       "        vertical-align: middle;\n",
       "    }\n",
       "\n",
       "    .dataframe tbody tr th {\n",
       "        vertical-align: top;\n",
       "    }\n",
       "\n",
       "    .dataframe thead th {\n",
       "        text-align: right;\n",
       "    }\n",
       "</style>\n",
       "<table border=\"1\" class=\"dataframe\">\n",
       "  <thead>\n",
       "    <tr style=\"text-align: right;\">\n",
       "      <th></th>\n",
       "      <th>Open</th>\n",
       "      <th>High</th>\n",
       "      <th>Low</th>\n",
       "      <th>Close</th>\n",
       "      <th>Adj Close</th>\n",
       "      <th>Volume</th>\n",
       "    </tr>\n",
       "  </thead>\n",
       "  <tbody>\n",
       "    <tr>\n",
       "      <th>count</th>\n",
       "      <td>4006.000000</td>\n",
       "      <td>4006.000000</td>\n",
       "      <td>4006.000000</td>\n",
       "      <td>4006.000000</td>\n",
       "      <td>4006.000000</td>\n",
       "      <td>4.006000e+03</td>\n",
       "    </tr>\n",
       "    <tr>\n",
       "      <th>mean</th>\n",
       "      <td>519.588636</td>\n",
       "      <td>524.473898</td>\n",
       "      <td>514.551292</td>\n",
       "      <td>519.669776</td>\n",
       "      <td>519.669776</td>\n",
       "      <td>6.916466e+06</td>\n",
       "    </tr>\n",
       "    <tr>\n",
       "      <th>std</th>\n",
       "      <td>369.380297</td>\n",
       "      <td>372.830122</td>\n",
       "      <td>366.249678</td>\n",
       "      <td>369.794911</td>\n",
       "      <td>369.794911</td>\n",
       "      <td>7.994278e+06</td>\n",
       "    </tr>\n",
       "    <tr>\n",
       "      <th>min</th>\n",
       "      <td>49.409801</td>\n",
       "      <td>50.680038</td>\n",
       "      <td>47.800831</td>\n",
       "      <td>49.818268</td>\n",
       "      <td>49.818268</td>\n",
       "      <td>7.900000e+03</td>\n",
       "    </tr>\n",
       "    <tr>\n",
       "      <th>25%</th>\n",
       "      <td>239.472400</td>\n",
       "      <td>241.624336</td>\n",
       "      <td>236.975514</td>\n",
       "      <td>239.440025</td>\n",
       "      <td>239.440025</td>\n",
       "      <td>1.718900e+06</td>\n",
       "    </tr>\n",
       "    <tr>\n",
       "      <th>50%</th>\n",
       "      <td>336.583405</td>\n",
       "      <td>339.118897</td>\n",
       "      <td>333.425232</td>\n",
       "      <td>337.315659</td>\n",
       "      <td>337.315659</td>\n",
       "      <td>4.216250e+06</td>\n",
       "    </tr>\n",
       "    <tr>\n",
       "      <th>75%</th>\n",
       "      <td>758.877487</td>\n",
       "      <td>767.349991</td>\n",
       "      <td>752.089997</td>\n",
       "      <td>759.529984</td>\n",
       "      <td>759.529984</td>\n",
       "      <td>8.821450e+06</td>\n",
       "    </tr>\n",
       "    <tr>\n",
       "      <th>max</th>\n",
       "      <td>1550.000000</td>\n",
       "      <td>1577.131958</td>\n",
       "      <td>1521.400024</td>\n",
       "      <td>1541.739990</td>\n",
       "      <td>1541.739990</td>\n",
       "      <td>8.254150e+07</td>\n",
       "    </tr>\n",
       "  </tbody>\n",
       "</table>\n",
       "</div>"
      ],
      "text/plain": [
       "              Open         High          Low        Close    Adj Close  \\\n",
       "count  4006.000000  4006.000000  4006.000000  4006.000000  4006.000000   \n",
       "mean    519.588636   524.473898   514.551292   519.669776   519.669776   \n",
       "std     369.380297   372.830122   366.249678   369.794911   369.794911   \n",
       "min      49.409801    50.680038    47.800831    49.818268    49.818268   \n",
       "25%     239.472400   241.624336   236.975514   239.440025   239.440025   \n",
       "50%     336.583405   339.118897   333.425232   337.315659   337.315659   \n",
       "75%     758.877487   767.349991   752.089997   759.529984   759.529984   \n",
       "max    1550.000000  1577.131958  1521.400024  1541.739990  1541.739990   \n",
       "\n",
       "             Volume  \n",
       "count  4.006000e+03  \n",
       "mean   6.916466e+06  \n",
       "std    7.994278e+06  \n",
       "min    7.900000e+03  \n",
       "25%    1.718900e+06  \n",
       "50%    4.216250e+06  \n",
       "75%    8.821450e+06  \n",
       "max    8.254150e+07  "
      ]
     },
     "execution_count": 40,
     "metadata": {},
     "output_type": "execute_result"
    }
   ],
   "source": [
    "df.describe() #concise summary of the dataframe"
   ]
  },
  {
   "cell_type": "markdown",
   "metadata": {},
   "source": [
    "**Visualizing the features**"
   ]
  },
  {
   "cell_type": "code",
   "execution_count": 41,
   "metadata": {
    "execution": {
     "iopub.execute_input": "2021-07-15T14:11:18.881212Z",
     "iopub.status.busy": "2021-07-15T14:11:18.880848Z",
     "iopub.status.idle": "2021-07-15T14:11:20.353528Z",
     "shell.execute_reply": "2021-07-15T14:11:20.352604Z",
     "shell.execute_reply.started": "2021-07-15T14:11:18.881177Z"
    },
    "id": "6klgmpWq0TJZ",
    "outputId": "8db62616-a14a-4bd2-dfda-4fd6d2e61ddc"
   },
   "outputs": [
    {
     "data": {
      "image/png": "[encoded data removed]",
      "text/plain": [
       "<Figure size 720x576 with 5 Axes>"
      ]
     },
     "metadata": {
      "needs_background": "light"
     },
     "output_type": "display_data"
    }
   ],
   "source": [
    "mpl.rcParams['figure.figsize'] = (10, 8)\n",
    "mpl.rcParams['axes.grid'] = False\n",
    "df.set_index('Date')[['Open','High','Low','Close','Adj Close']].plot(subplots=True);"
   ]
  },
  {
   "cell_type": "markdown",
   "metadata": {},
   "source": [
    "Taking 5 features as the input to the time series - open, high, low, close, Adjusted close "
   ]
  },
  {
   "cell_type": "code",
   "execution_count": 42,
   "metadata": {
    "execution": {
     "iopub.execute_input": "2021-07-15T14:11:20.355507Z",
     "iopub.status.busy": "2021-07-15T14:11:20.355100Z",
     "iopub.status.idle": "2021-07-15T14:11:20.361724Z",
     "shell.execute_reply": "2021-07-15T14:11:20.360492Z",
     "shell.execute_reply.started": "2021-07-15T14:11:20.355464Z"
    },
    "id": "03LtErv2z8fI"
   },
   "outputs": [],
   "source": [
    "df_input=df[['Open','High','Low','Close','Adj Close',]]"
   ]
  },
  {
   "cell_type": "code",
   "execution_count": 43,
   "metadata": {
    "execution": {
     "iopub.execute_input": "2021-07-15T14:11:20.364055Z",
     "iopub.status.busy": "2021-07-15T14:11:20.363514Z",
     "iopub.status.idle": "2021-07-15T14:11:20.403152Z",
     "shell.execute_reply": "2021-07-15T14:11:20.402184Z",
     "shell.execute_reply.started": "2021-07-15T14:11:20.363886Z"
    },
    "id": "s3QqtUCsyKLa",
    "outputId": "246287b9-2ca9-431f-aef6-0922beccec2b"
   },
   "outputs": [
    {
     "data": {
      "text/html": [
       "<div>\n",
       "<style scoped>\n",
       "    .dataframe tbody tr th:only-of-type {\n",
       "        vertical-align: middle;\n",
       "    }\n",
       "\n",
       "    .dataframe tbody tr th {\n",
       "        vertical-align: top;\n",
       "    }\n",
       "\n",
       "    .dataframe thead th {\n",
       "        text-align: right;\n",
       "    }\n",
       "</style>\n",
       "<table border=\"1\" class=\"dataframe\">\n",
       "  <thead>\n",
       "    <tr style=\"text-align: right;\">\n",
       "      <th></th>\n",
       "      <th>Open</th>\n",
       "      <th>High</th>\n",
       "      <th>Low</th>\n",
       "      <th>Close</th>\n",
       "      <th>Adj Close</th>\n",
       "    </tr>\n",
       "  </thead>\n",
       "  <tbody>\n",
       "    <tr>\n",
       "      <th>count</th>\n",
       "      <td>4006.000000</td>\n",
       "      <td>4006.000000</td>\n",
       "      <td>4006.000000</td>\n",
       "      <td>4006.000000</td>\n",
       "      <td>4006.000000</td>\n",
       "    </tr>\n",
       "    <tr>\n",
       "      <th>mean</th>\n",
       "      <td>519.588636</td>\n",
       "      <td>524.473898</td>\n",
       "      <td>514.551292</td>\n",
       "      <td>519.669776</td>\n",
       "      <td>519.669776</td>\n",
       "    </tr>\n",
       "    <tr>\n",
       "      <th>std</th>\n",
       "      <td>369.380297</td>\n",
       "      <td>372.830122</td>\n",
       "      <td>366.249678</td>\n",
       "      <td>369.794911</td>\n",
       "      <td>369.794911</td>\n",
       "    </tr>\n",
       "    <tr>\n",
       "      <th>min</th>\n",
       "      <td>49.409801</td>\n",
       "      <td>50.680038</td>\n",
       "      <td>47.800831</td>\n",
       "      <td>49.818268</td>\n",
       "      <td>49.818268</td>\n",
       "    </tr>\n",
       "    <tr>\n",
       "      <th>25%</th>\n",
       "      <td>239.472400</td>\n",
       "      <td>241.624336</td>\n",
       "      <td>236.975514</td>\n",
       "      <td>239.440025</td>\n",
       "      <td>239.440025</td>\n",
       "    </tr>\n",
       "    <tr>\n",
       "      <th>50%</th>\n",
       "      <td>336.583405</td>\n",
       "      <td>339.118897</td>\n",
       "      <td>333.425232</td>\n",
       "      <td>337.315659</td>\n",
       "      <td>337.315659</td>\n",
       "    </tr>\n",
       "    <tr>\n",
       "      <th>75%</th>\n",
       "      <td>758.877487</td>\n",
       "      <td>767.349991</td>\n",
       "      <td>752.089997</td>\n",
       "      <td>759.529984</td>\n",
       "      <td>759.529984</td>\n",
       "    </tr>\n",
       "    <tr>\n",
       "      <th>max</th>\n",
       "      <td>1550.000000</td>\n",
       "      <td>1577.131958</td>\n",
       "      <td>1521.400024</td>\n",
       "      <td>1541.739990</td>\n",
       "      <td>1541.739990</td>\n",
       "    </tr>\n",
       "  </tbody>\n",
       "</table>\n",
       "</div>"
      ],
      "text/plain": [
       "              Open         High          Low        Close    Adj Close\n",
       "count  4006.000000  4006.000000  4006.000000  4006.000000  4006.000000\n",
       "mean    519.588636   524.473898   514.551292   519.669776   519.669776\n",
       "std     369.380297   372.830122   366.249678   369.794911   369.794911\n",
       "min      49.409801    50.680038    47.800831    49.818268    49.818268\n",
       "25%     239.472400   241.624336   236.975514   239.440025   239.440025\n",
       "50%     336.583405   339.118897   333.425232   337.315659   337.315659\n",
       "75%     758.877487   767.349991   752.089997   759.529984   759.529984\n",
       "max    1550.000000  1577.131958  1521.400024  1541.739990  1541.739990"
      ]
     },
     "execution_count": 43,
     "metadata": {},
     "output_type": "execute_result"
    }
   ],
   "source": [
    "df_input.describe()"
   ]
  },
  {
   "cell_type": "markdown",
   "metadata": {},
   "source": [
    "# Prepare the Data\n",
    "**StandardScaler()**\n",
    "\n",
    "LSTM uses sigmoid and tanh that are sensitive to magnitude so values need to be normalized.\n",
    "\n",
    "Since there are 5 features used in this example for prediction and have different scales, they are Standardized to have a common scale while building the model.\n",
    "\n",
    "StandardScaler() will normalize the features i.e. each column of X, INDIVIDUALLY, so that each column/feature/variable will have mean = 0 and standard deviation = 1"
   ]
  },
  {
   "cell_type": "code",
   "execution_count": 44,
   "metadata": {
    "execution": {
     "iopub.execute_input": "2021-07-15T14:11:20.406695Z",
     "iopub.status.busy": "2021-07-15T14:11:20.406208Z",
     "iopub.status.idle": "2021-07-15T14:11:20.419197Z",
     "shell.execute_reply": "2021-07-15T14:11:20.418116Z",
     "shell.execute_reply.started": "2021-07-15T14:11:20.406645Z"
    },
    "id": "gdnkSpWaENYQ"
   },
   "outputs": [],
   "source": [
    "scaler = StandardScaler()\n",
    "data_scaled = scaler.fit_transform(df_input)"
   ]
  },
  {
   "cell_type": "code",
   "execution_count": 45,
   "metadata": {
    "execution": {
     "iopub.execute_input": "2021-07-15T14:11:20.424426Z",
     "iopub.status.busy": "2021-07-15T14:11:20.424064Z",
     "iopub.status.idle": "2021-07-15T14:11:20.431551Z",
     "shell.execute_reply": "2021-07-15T14:11:20.430553Z",
     "shell.execute_reply.started": "2021-07-15T14:11:20.424396Z"
    },
    "id": "IEZuMY99zfLU"
   },
   "outputs": [],
   "source": [
    "features=data_scaled\n",
    "target=data_scaled[:,0] # Target Column - Open Price"
   ]
  },
  {
   "cell_type": "code",
   "execution_count": 46,
   "metadata": {
    "execution": {
     "iopub.execute_input": "2021-07-15T14:11:20.435087Z",
     "iopub.status.busy": "2021-07-15T14:11:20.434291Z",
     "iopub.status.idle": "2021-07-15T14:11:20.443884Z",
     "shell.execute_reply": "2021-07-15T14:11:20.442903Z",
     "shell.execute_reply.started": "2021-07-15T14:11:20.435038Z"
    },
    "id": "l3D7t9UA4Juf"
   },
   "outputs": [],
   "source": [
    "x_train, x_test, y_train, y_test = train_test_split(features, target, test_size=0.25, random_state=123, shuffle = False)"
   ]
  },
  {
   "cell_type": "code",
   "execution_count": 47,
   "metadata": {
    "execution": {
     "iopub.execute_input": "2021-07-15T14:11:20.448088Z",
     "iopub.status.busy": "2021-07-15T14:11:20.447672Z",
     "iopub.status.idle": "2021-07-15T14:11:20.459277Z",
     "shell.execute_reply": "2021-07-15T14:11:20.458308Z",
     "shell.execute_reply.started": "2021-07-15T14:11:20.448048Z"
    },
    "id": "DLv-nf0rFlLw",
    "outputId": "7e8111e6-467c-4b22-ccdf-0258ee2479fd"
   },
   "outputs": [
    {
     "data": {
      "text/plain": [
       "(3004, 5)"
      ]
     },
     "execution_count": 47,
     "metadata": {},
     "output_type": "execute_result"
    }
   ],
   "source": [
    "x_train.shape"
   ]
  },
  {
   "cell_type": "code",
   "execution_count": 48,
   "metadata": {
    "execution": {
     "iopub.execute_input": "2021-07-15T14:11:20.462898Z",
     "iopub.status.busy": "2021-07-15T14:11:20.462253Z",
     "iopub.status.idle": "2021-07-15T14:11:20.471507Z",
     "shell.execute_reply": "2021-07-15T14:11:20.470386Z",
     "shell.execute_reply.started": "2021-07-15T14:11:20.462854Z"
    },
    "id": "Ez0G67QwK_aW",
    "outputId": "cf6ee7d0-7315-4cf3-dcab-431692999d67"
   },
   "outputs": [
    {
     "data": {
      "text/plain": [
       "(1002, 5)"
      ]
     },
     "execution_count": 48,
     "metadata": {},
     "output_type": "execute_result"
    }
   ],
   "source": [
    "x_test.shape"
   ]
  },
  {
   "cell_type": "markdown",
   "metadata": {},
   "source": [
    "**TimeseriesGenerator**\n",
    "\n",
    "TimeseriesGenerator is used to automatically transform both univariate and multivariate time series data into samples, ready to train deep learning models.\n",
    "\n",
    "In this example, Keras TimeseriesGenerator is used for preparing time series data for modelling with deep learning methods.\n",
    "\n",
    "Arguments that are passed to TimeseriesGenerator:\n",
    "1. features: Passing the scaled multivariate data\n",
    "2. target: Passing the scaled target column\n",
    "3. length: It is the window_length\n",
    "4. Sampling_rate: Period between successive individual timesteps within sequences.\n",
    "5. batch_size: Number of time-series samples in each batch\n",
    "\n",
    "To know more about TimeseriesGenerator, check the Keras documentation: [TimeseriesGenerator](https://keras.io/api/preprocessing/timeseries/)"
   ]
  },
  {
   "cell_type": "code",
   "execution_count": 49,
   "metadata": {
    "execution": {
     "iopub.execute_input": "2021-07-15T14:11:20.473758Z",
     "iopub.status.busy": "2021-07-15T14:11:20.473273Z",
     "iopub.status.idle": "2021-07-15T14:11:20.487718Z",
     "shell.execute_reply": "2021-07-15T14:11:20.486392Z",
     "shell.execute_reply.started": "2021-07-15T14:11:20.473713Z"
    }
   },
   "outputs": [
    {
     "name": "stdout",
     "output_type": "stream",
     "text": [
      "Input Features\n",
      " [[-1.27195197 -1.26786213 -1.2745642  -1.27028724 -1.27028724]\n",
      " [-1.27058974 -1.26115415 -1.26838862 -1.2595499  -1.2595499 ]\n",
      " [-1.25745309 -1.25527464 -1.25675839 -1.25808143 -1.25808143]]\n",
      "\n",
      "TimeseriesGenerator\n"
     ]
    },
    {
     "data": {
      "text/plain": [
       "(array([[[-1.27195197, -1.26786213, -1.2745642 , -1.27028724,\n",
       "          -1.27028724],\n",
       "         [-1.27058974, -1.26115415, -1.26838862, -1.2595499 ,\n",
       "          -1.2595499 ]]]),\n",
       " array([-1.25745309]))"
      ]
     },
     "execution_count": 49,
     "metadata": {},
     "output_type": "execute_result"
    }
   ],
   "source": [
    "# This code block is for the understanding the output of TimeseriesGenerator\n",
    "print(\"Input Features\\n\",data_scaled[0:3])\n",
    "print(\"\\nTimeseriesGenerator\") \n",
    "TimeseriesGenerator(features, target, length=2, sampling_rate=1, batch_size=1)[0]"
   ]
  },
  {
   "cell_type": "markdown",
   "metadata": {},
   "source": [
    "From the above output, it can be observed that the opening price of 3rd day is made as the target value for the input features of first two days."
   ]
  },
  {
   "cell_type": "markdown",
   "metadata": {},
   "source": [
    "# Set the parameters and Build the model"
   ]
  },
  {
   "cell_type": "code",
   "execution_count": 50,
   "metadata": {
    "execution": {
     "iopub.execute_input": "2021-07-15T14:11:20.490287Z",
     "iopub.status.busy": "2021-07-15T14:11:20.489802Z",
     "iopub.status.idle": "2021-07-15T14:11:20.499166Z",
     "shell.execute_reply": "2021-07-15T14:11:20.497740Z",
     "shell.execute_reply.started": "2021-07-15T14:11:20.490239Z"
    },
    "id": "XAR9vd-n1MIK"
   },
   "outputs": [],
   "source": [
    "win_length=60 #window length\n",
    "batch_size=62\n",
    "num_features=5\n",
    "train_generator = TimeseriesGenerator(x_train, y_train, length=win_length, sampling_rate=1, batch_size=batch_size)\n",
    "test_generator = TimeseriesGenerator(x_test, y_test, length=win_length, sampling_rate=1, batch_size=batch_size)"
   ]
  },
  {
   "cell_type": "markdown",
   "metadata": {},
   "source": [
    "**Leaky ReLU**\n",
    "\n",
    "Leaky ReLU function is an improved version of the ReLU activation function. As for the ReLU activation function, the gradient is 0 for all the values of inputs that are less than zero, which would deactivate the neurons in that region and may cause a dying ReLU problem.\n",
    "\n",
    "Leaky ReLU is defined to address this problem. Instead of defining the ReLU activation function as 0 for negative values of inputs(x), we define it as an extremely small linear component of x. Here is the formula for this activation function\n",
    "\n",
    "f(x)=max(0.01*x , x)\n",
    "\n",
    "For reference, Relu formula: f(x) = max(0,x)\n",
    "\n",
    "This function returns x if it receives any positive input, but for any negative value of x, it returns a really small value which is 0.01 times x. \n",
    "\n",
    "**Why LSTM?**\n",
    "\n",
    "Recurrent neural networks are much more flexible and much better suited to time series forecasting than the linear models usually applied. \n",
    "\n",
    "Recurrent neural networks, of which LSTMs (“long short-term memory” units) are the most powerful and well-known subset, are a type of artificial neural network designed to recognize patterns in sequences of data, such as numerical times series data."
   ]
  },
  {
   "cell_type": "code",
   "execution_count": 51,
   "metadata": {
    "execution": {
     "iopub.execute_input": "2021-07-15T14:11:20.501480Z",
     "iopub.status.busy": "2021-07-15T14:11:20.501029Z",
     "iopub.status.idle": "2021-07-15T14:11:21.213613Z",
     "shell.execute_reply": "2021-07-15T14:11:21.212688Z",
     "shell.execute_reply.started": "2021-07-15T14:11:20.501433Z"
    },
    "id": "P8AvmYYcNyOR"
   },
   "outputs": [],
   "source": [
    "model = tf.keras.Sequential()\n",
    "model.add(tf.keras.layers.LSTM(128, input_shape= (win_length, num_features), return_sequences=True))\n",
    "model.add(tf.keras.layers.LeakyReLU(alpha=0.5)) \n",
    "model.add(tf.keras.layers.LSTM(128, return_sequences=True))\n",
    "model.add(tf.keras.layers.LeakyReLU(alpha=0.5)) \n",
    "model.add(tf.keras.layers.Dropout(0.3)) \n",
    "model.add(tf.keras.layers.LSTM(64, return_sequences=False))\n",
    "model.add(tf.keras.layers.Dropout(0.3)) \n",
    "model.add(tf.keras.layers.Dense(1))"
   ]
  },
  {
   "cell_type": "code",
   "execution_count": 52,
   "metadata": {
    "execution": {
     "iopub.execute_input": "2021-07-15T14:11:21.215526Z",
     "iopub.status.busy": "2021-07-15T14:11:21.215128Z",
     "iopub.status.idle": "2021-07-15T14:11:21.227816Z",
     "shell.execute_reply": "2021-07-15T14:11:21.226564Z",
     "shell.execute_reply.started": "2021-07-15T14:11:21.215484Z"
    },
    "id": "2dQ-DlXiLswo",
    "outputId": "f23142e8-1a72-4614-d5ae-a246eda6cddf"
   },
   "outputs": [
    {
     "name": "stdout",
     "output_type": "stream",
     "text": [
      "Model: \"sequential_1\"\n",
      "_________________________________________________________________\n",
      "Layer (type)                 Output Shape              Param #   \n",
      "=================================================================\n",
      "lstm_3 (LSTM)                (None, 60, 128)           68608     \n",
      "_________________________________________________________________\n",
      "leaky_re_lu_2 (LeakyReLU)    (None, 60, 128)           0         \n",
      "_________________________________________________________________\n",
      "lstm_4 (LSTM)                (None, 60, 128)           131584    \n",
      "_________________________________________________________________\n",
      "leaky_re_lu_3 (LeakyReLU)    (None, 60, 128)           0         \n",
      "_________________________________________________________________\n",
      "dropout_2 (Dropout)          (None, 60, 128)           0         \n",
      "_________________________________________________________________\n",
      "lstm_5 (LSTM)                (None, 64)                49408     \n",
      "_________________________________________________________________\n",
      "dropout_3 (Dropout)          (None, 64)                0         \n",
      "_________________________________________________________________\n",
      "dense_1 (Dense)              (None, 1)                 65        \n",
      "=================================================================\n",
      "Total params: 249,665\n",
      "Trainable params: 249,665\n",
      "Non-trainable params: 0\n",
      "_________________________________________________________________\n"
     ]
    }
   ],
   "source": [
    "model.summary()"
   ]
  },
  {
   "cell_type": "markdown",
   "metadata": {},
   "source": [
    "# Train the model"
   ]
  },
  {
   "cell_type": "code",
   "execution_count": 53,
   "metadata": {
    "execution": {
     "iopub.execute_input": "2021-07-15T14:11:21.229988Z",
     "iopub.status.busy": "2021-07-15T14:11:21.229595Z",
     "iopub.status.idle": "2021-07-15T14:12:08.703842Z",
     "shell.execute_reply": "2021-07-15T14:12:08.702897Z",
     "shell.execute_reply.started": "2021-07-15T14:11:21.229952Z"
    },
    "id": "JHnl-d8824y0",
    "outputId": "900e0c0e-c08c-4a35-bd47-c02cd8fcc357"
   },
   "outputs": [
    {
     "name": "stdout",
     "output_type": "stream",
     "text": [
      "Epoch 1/50\n",
      "48/48 [==============================] - 6s 38ms/step - loss: 0.2180 - mean_absolute_error: 0.3139 - val_loss: 0.1054 - val_mean_absolute_error: 0.2282\n",
      "Epoch 2/50\n",
      "48/48 [==============================] - 1s 17ms/step - loss: 0.0629 - mean_absolute_error: 0.1999 - val_loss: 0.1006 - val_mean_absolute_error: 0.2389\n",
      "Epoch 3/50\n",
      "48/48 [==============================] - 1s 16ms/step - loss: 0.0920 - mean_absolute_error: 0.2338 - val_loss: 0.0272 - val_mean_absolute_error: 0.1137\n",
      "Epoch 4/50\n",
      "48/48 [==============================] - 1s 17ms/step - loss: 0.0788 - mean_absolute_error: 0.2178 - val_loss: 0.0926 - val_mean_absolute_error: 0.2579\n",
      "Epoch 5/50\n",
      "48/48 [==============================] - 1s 16ms/step - loss: 0.0565 - mean_absolute_error: 0.1818 - val_loss: 0.0792 - val_mean_absolute_error: 0.2106\n",
      "Epoch 6/50\n",
      "48/48 [==============================] - 1s 20ms/step - loss: 0.0326 - mean_absolute_error: 0.1400 - val_loss: 0.0741 - val_mean_absolute_error: 0.1968\n",
      "Epoch 7/50\n",
      "48/48 [==============================] - 1s 17ms/step - loss: 0.0186 - mean_absolute_error: 0.1062 - val_loss: 0.0182 - val_mean_absolute_error: 0.0952\n",
      "Epoch 8/50\n",
      "48/48 [==============================] - 1s 17ms/step - loss: 0.0200 - mean_absolute_error: 0.1091 - val_loss: 0.1445 - val_mean_absolute_error: 0.3222\n",
      "Epoch 9/50\n",
      "48/48 [==============================] - 1s 17ms/step - loss: 0.0327 - mean_absolute_error: 0.1419 - val_loss: 0.0454 - val_mean_absolute_error: 0.1495\n",
      "Epoch 10/50\n",
      "48/48 [==============================] - 1s 17ms/step - loss: 0.0205 - mean_absolute_error: 0.1130 - val_loss: 0.0310 - val_mean_absolute_error: 0.1182\n",
      "Epoch 11/50\n",
      "48/48 [==============================] - 1s 17ms/step - loss: 0.0111 - mean_absolute_error: 0.0814 - val_loss: 0.0811 - val_mean_absolute_error: 0.2291\n",
      "Epoch 12/50\n",
      "48/48 [==============================] - 1s 16ms/step - loss: 0.0248 - mean_absolute_error: 0.1240 - val_loss: 0.0527 - val_mean_absolute_error: 0.1638\n",
      "Epoch 13/50\n",
      "48/48 [==============================] - 1s 16ms/step - loss: 0.0213 - mean_absolute_error: 0.1130 - val_loss: 0.0747 - val_mean_absolute_error: 0.2055\n",
      "Epoch 14/50\n",
      "48/48 [==============================] - 1s 17ms/step - loss: 0.0100 - mean_absolute_error: 0.0781 - val_loss: 0.1149 - val_mean_absolute_error: 0.2805\n",
      "Epoch 15/50\n",
      "48/48 [==============================] - 1s 17ms/step - loss: 0.0161 - mean_absolute_error: 0.1005 - val_loss: 0.0684 - val_mean_absolute_error: 0.1892\n",
      "Epoch 16/50\n",
      "48/48 [==============================] - 1s 16ms/step - loss: 0.0097 - mean_absolute_error: 0.0760 - val_loss: 0.0329 - val_mean_absolute_error: 0.1249\n",
      "Epoch 17/50\n",
      "48/48 [==============================] - 1s 16ms/step - loss: 0.0076 - mean_absolute_error: 0.0682 - val_loss: 0.1790 - val_mean_absolute_error: 0.3657\n",
      "Epoch 18/50\n",
      "48/48 [==============================] - 1s 17ms/step - loss: 0.0219 - mean_absolute_error: 0.1168 - val_loss: 0.0757 - val_mean_absolute_error: 0.2035\n",
      "Epoch 19/50\n",
      "48/48 [==============================] - 1s 21ms/step - loss: 0.0219 - mean_absolute_error: 0.1142 - val_loss: 0.0700 - val_mean_absolute_error: 0.1996\n",
      "Epoch 20/50\n",
      "48/48 [==============================] - 1s 17ms/step - loss: 0.0112 - mean_absolute_error: 0.0818 - val_loss: 0.0598 - val_mean_absolute_error: 0.1819\n",
      "Epoch 21/50\n",
      "48/48 [==============================] - 1s 17ms/step - loss: 0.0133 - mean_absolute_error: 0.0918 - val_loss: 0.0654 - val_mean_absolute_error: 0.1974\n",
      "Epoch 22/50\n",
      "48/48 [==============================] - 1s 17ms/step - loss: 0.0123 - mean_absolute_error: 0.0826 - val_loss: 0.0946 - val_mean_absolute_error: 0.2382\n",
      "Epoch 23/50\n",
      "48/48 [==============================] - 1s 19ms/step - loss: 0.0064 - mean_absolute_error: 0.0623 - val_loss: 0.0573 - val_mean_absolute_error: 0.1808\n",
      "Epoch 24/50\n",
      "48/48 [==============================] - 1s 22ms/step - loss: 0.0062 - mean_absolute_error: 0.0606 - val_loss: 0.0719 - val_mean_absolute_error: 0.2166\n",
      "Epoch 25/50\n",
      "48/48 [==============================] - 1s 17ms/step - loss: 0.0061 - mean_absolute_error: 0.0597 - val_loss: 0.1147 - val_mean_absolute_error: 0.2799\n",
      "Epoch 26/50\n",
      "48/48 [==============================] - 1s 17ms/step - loss: 0.0063 - mean_absolute_error: 0.0617 - val_loss: 0.0829 - val_mean_absolute_error: 0.2224\n",
      "Epoch 27/50\n",
      "48/48 [==============================] - 1s 17ms/step - loss: 0.0058 - mean_absolute_error: 0.0596 - val_loss: 0.0127 - val_mean_absolute_error: 0.0835\n",
      "Epoch 28/50\n",
      "48/48 [==============================] - 1s 17ms/step - loss: 0.0070 - mean_absolute_error: 0.0649 - val_loss: 0.0208 - val_mean_absolute_error: 0.1162\n",
      "Epoch 29/50\n",
      "48/48 [==============================] - 1s 17ms/step - loss: 0.0091 - mean_absolute_error: 0.0741 - val_loss: 0.0694 - val_mean_absolute_error: 0.2300\n",
      "Epoch 30/50\n",
      "48/48 [==============================] - 1s 16ms/step - loss: 0.0114 - mean_absolute_error: 0.0837 - val_loss: 0.1747 - val_mean_absolute_error: 0.3504\n",
      "Epoch 31/50\n",
      "48/48 [==============================] - 1s 17ms/step - loss: 0.0076 - mean_absolute_error: 0.0671 - val_loss: 0.0607 - val_mean_absolute_error: 0.1856\n",
      "Epoch 32/50\n",
      "48/48 [==============================] - 1s 21ms/step - loss: 0.0067 - mean_absolute_error: 0.0636 - val_loss: 0.0612 - val_mean_absolute_error: 0.2256\n",
      "Epoch 33/50\n",
      "48/48 [==============================] - 1s 17ms/step - loss: 0.0063 - mean_absolute_error: 0.0610 - val_loss: 0.0514 - val_mean_absolute_error: 0.2026\n",
      "Epoch 34/50\n",
      "48/48 [==============================] - 1s 17ms/step - loss: 0.0129 - mean_absolute_error: 0.0901 - val_loss: 0.0254 - val_mean_absolute_error: 0.1345\n",
      "Epoch 35/50\n",
      "48/48 [==============================] - 1s 17ms/step - loss: 0.0135 - mean_absolute_error: 0.0921 - val_loss: 0.1009 - val_mean_absolute_error: 0.2609\n",
      "Epoch 36/50\n",
      "48/48 [==============================] - 1s 17ms/step - loss: 0.0157 - mean_absolute_error: 0.0983 - val_loss: 0.0341 - val_mean_absolute_error: 0.1365\n",
      "Epoch 37/50\n",
      "48/48 [==============================] - 1s 17ms/step - loss: 0.0085 - mean_absolute_error: 0.0714 - val_loss: 0.0640 - val_mean_absolute_error: 0.2313\n",
      "Epoch 38/50\n",
      "48/48 [==============================] - 1s 17ms/step - loss: 0.0067 - mean_absolute_error: 0.0643 - val_loss: 0.0746 - val_mean_absolute_error: 0.2422\n",
      "Epoch 39/50\n",
      "48/48 [==============================] - 1s 17ms/step - loss: 0.0131 - mean_absolute_error: 0.0895 - val_loss: 0.0068 - val_mean_absolute_error: 0.0650\n",
      "Epoch 40/50\n",
      "48/48 [==============================] - 1s 17ms/step - loss: 0.0167 - mean_absolute_error: 0.1006 - val_loss: 0.0360 - val_mean_absolute_error: 0.1520\n",
      "Epoch 41/50\n",
      "48/48 [==============================] - 1s 17ms/step - loss: 0.0155 - mean_absolute_error: 0.0976 - val_loss: 0.0195 - val_mean_absolute_error: 0.1191\n",
      "Epoch 42/50\n",
      "48/48 [==============================] - 1s 17ms/step - loss: 0.0086 - mean_absolute_error: 0.0727 - val_loss: 0.1036 - val_mean_absolute_error: 0.2897\n",
      "Epoch 43/50\n",
      "48/48 [==============================] - 1s 17ms/step - loss: 0.0127 - mean_absolute_error: 0.0861 - val_loss: 0.0098 - val_mean_absolute_error: 0.0735\n",
      "Epoch 44/50\n",
      "48/48 [==============================] - 1s 17ms/step - loss: 0.0139 - mean_absolute_error: 0.0914 - val_loss: 0.0097 - val_mean_absolute_error: 0.0777\n",
      "Epoch 45/50\n",
      "48/48 [==============================] - 1s 21ms/step - loss: 0.0097 - mean_absolute_error: 0.0748 - val_loss: 0.0295 - val_mean_absolute_error: 0.1319\n",
      "Epoch 46/50\n",
      "48/48 [==============================] - 1s 18ms/step - loss: 0.0057 - mean_absolute_error: 0.0582 - val_loss: 0.0356 - val_mean_absolute_error: 0.1680\n",
      "Epoch 47/50\n",
      "48/48 [==============================] - 1s 17ms/step - loss: 0.0047 - mean_absolute_error: 0.0536 - val_loss: 0.0226 - val_mean_absolute_error: 0.1219\n",
      "Epoch 48/50\n",
      "48/48 [==============================] - 1s 17ms/step - loss: 0.0080 - mean_absolute_error: 0.0693 - val_loss: 0.0049 - val_mean_absolute_error: 0.0520\n",
      "Epoch 49/50\n",
      "48/48 [==============================] - 1s 17ms/step - loss: 0.0076 - mean_absolute_error: 0.0671 - val_loss: 0.0364 - val_mean_absolute_error: 0.1568\n",
      "Epoch 50/50\n",
      "48/48 [==============================] - 1s 17ms/step - loss: 0.0051 - mean_absolute_error: 0.0552 - val_loss: 0.0059 - val_mean_absolute_error: 0.0576\n"
     ]
    }
   ],
   "source": [
    "model.compile(loss=tf.losses.MeanSquaredError(),\n",
    "              optimizer=tf.optimizers.Adam(),\n",
    "              metrics=[tf.metrics.MeanAbsoluteError()])\n",
    "\n",
    "history = model.fit(train_generator, epochs=50,\n",
    "                    validation_data=test_generator,\n",
    "                    shuffle=False)"
   ]
  },
  {
   "cell_type": "markdown",
   "metadata": {},
   "source": [
    "# Evaluate model on Test data"
   ]
  },
  {
   "cell_type": "code",
   "execution_count": 54,
   "metadata": {
    "execution": {
     "iopub.execute_input": "2021-07-15T14:12:08.708089Z",
     "iopub.status.busy": "2021-07-15T14:12:08.707765Z",
     "iopub.status.idle": "2021-07-15T14:12:08.905893Z",
     "shell.execute_reply": "2021-07-15T14:12:08.904970Z",
     "shell.execute_reply.started": "2021-07-15T14:12:08.708057Z"
    }
   },
   "outputs": [
    {
     "data": {
      "image/png": "[encoded data removed]",
      "text/plain": [
       "<Figure size 720x576 with 1 Axes>"
      ]
     },
     "metadata": {
      "needs_background": "light"
     },
     "output_type": "display_data"
    }
   ],
   "source": [
    "plt.plot(history.history['mean_absolute_error'], label='Training MAE')\n",
    "plt.plot(history.history['val_mean_absolute_error'], label='Validation MAE')\n",
    "plt.legend()\n",
    "plt.show()"
   ]
  },
  {
   "cell_type": "code",
   "execution_count": 55,
   "metadata": {
    "execution": {
     "iopub.execute_input": "2021-07-15T14:12:08.908293Z",
     "iopub.status.busy": "2021-07-15T14:12:08.907740Z",
     "iopub.status.idle": "2021-07-15T14:12:09.056323Z",
     "shell.execute_reply": "2021-07-15T14:12:09.055337Z",
     "shell.execute_reply.started": "2021-07-15T14:12:08.908249Z"
    },
    "id": "G4q1O2Hw5tXI",
    "outputId": "95a82019-7a0d-4699-b54a-fab02056cfa6"
   },
   "outputs": [
    {
     "name": "stdout",
     "output_type": "stream",
     "text": [
      "Test Loss: 0.005900390911847353\n",
      "Test MAE: 0.05759012699127197\n"
     ]
    }
   ],
   "source": [
    "test_loss, test_mae = model.evaluate(test_generator, verbose=0)\n",
    "print(\"Test Loss:\", test_loss)\n",
    "print(\"Test MAE:\", test_mae)"
   ]
  },
  {
   "cell_type": "markdown",
   "metadata": {},
   "source": [
    "# Predictions"
   ]
  },
  {
   "cell_type": "code",
   "execution_count": 56,
   "metadata": {
    "execution": {
     "iopub.execute_input": "2021-07-15T14:12:09.058357Z",
     "iopub.status.busy": "2021-07-15T14:12:09.057927Z",
     "iopub.status.idle": "2021-07-15T14:12:10.120434Z",
     "shell.execute_reply": "2021-07-15T14:12:10.119417Z",
     "shell.execute_reply.started": "2021-07-15T14:12:09.058313Z"
    },
    "id": "Wx6HG0ZjXodP",
    "outputId": "9f419171-917b-46c7-882d-880417704e32"
   },
   "outputs": [],
   "source": [
    "predictions=model.predict(test_generator)"
   ]
  },
  {
   "cell_type": "code",
   "execution_count": 57,
   "metadata": {
    "execution": {
     "iopub.execute_input": "2021-07-15T14:12:10.124567Z",
     "iopub.status.busy": "2021-07-15T14:12:10.124235Z",
     "iopub.status.idle": "2021-07-15T14:12:10.132166Z",
     "shell.execute_reply": "2021-07-15T14:12:10.130882Z",
     "shell.execute_reply.started": "2021-07-15T14:12:10.124533Z"
    },
    "id": "kEoR4K3pYDnR",
    "outputId": "665d5cde-f4db-48e3-ab3e-95c8274d4db6"
   },
   "outputs": [
    {
     "data": {
      "text/plain": [
       "942"
      ]
     },
     "execution_count": 57,
     "metadata": {},
     "output_type": "execute_result"
    }
   ],
   "source": [
    "predictions.shape[0] \n",
    "#The shape of output is 942 and not 1002 when compared with x_test, since the first 60 days are used to determine the next day."
   ]
  },
  {
   "cell_type": "code",
   "execution_count": 58,
   "metadata": {
    "execution": {
     "iopub.execute_input": "2021-07-15T14:12:10.134584Z",
     "iopub.status.busy": "2021-07-15T14:12:10.134147Z",
     "iopub.status.idle": "2021-07-15T14:12:10.146069Z",
     "shell.execute_reply": "2021-07-15T14:12:10.144653Z",
     "shell.execute_reply.started": "2021-07-15T14:12:10.134540Z"
    },
    "id": "3YhtkAbq7hGf",
    "outputId": "c02e0140-ebb9-4246-d6c6-87f483ddabb4"
   },
   "outputs": [
    {
     "data": {
      "text/plain": [
       "array([[0.75144424, 0.77410068, 0.76222089, 0.76222089],\n",
       "       [0.74975424, 0.76863925, 0.74996925, 0.74996925],\n",
       "       [0.73776344, 0.76309581, 0.75646021, 0.75646021],\n",
       "       ...,\n",
       "       [2.71164316, 2.68552176, 2.68823148, 2.68823148],\n",
       "       [2.66700596, 2.65359982, 2.70002324, 2.70002324],\n",
       "       [2.67974794, 2.68666878, 2.69339725, 2.69339725]])"
      ]
     },
     "execution_count": 58,
     "metadata": {},
     "output_type": "execute_result"
    }
   ],
   "source": [
    "x_test[:,1:][win_length:] #Remove the first 60 values from the x_test and consider only the 942 values after the first 60 value"
   ]
  },
  {
   "cell_type": "code",
   "execution_count": 59,
   "metadata": {
    "execution": {
     "iopub.execute_input": "2021-07-15T14:12:10.148955Z",
     "iopub.status.busy": "2021-07-15T14:12:10.148141Z",
     "iopub.status.idle": "2021-07-15T14:12:10.156445Z",
     "shell.execute_reply": "2021-07-15T14:12:10.155348Z",
     "shell.execute_reply.started": "2021-07-15T14:12:10.148907Z"
    },
    "id": "qR04JJlC6yaM"
   },
   "outputs": [],
   "source": [
    "#concatenate the prediction dataframe with the x_test\n",
    "df_pred=pd.concat([pd.DataFrame(predictions), pd.DataFrame(x_test[:,1:][win_length:])],axis=1) "
   ]
  },
  {
   "cell_type": "code",
   "execution_count": 60,
   "metadata": {
    "execution": {
     "iopub.execute_input": "2021-07-15T14:12:10.158737Z",
     "iopub.status.busy": "2021-07-15T14:12:10.158257Z",
     "iopub.status.idle": "2021-07-15T14:12:10.179879Z",
     "shell.execute_reply": "2021-07-15T14:12:10.178361Z",
     "shell.execute_reply.started": "2021-07-15T14:12:10.158693Z"
    },
    "id": "3Fu_2Z9DR7rh",
    "outputId": "548060ab-9951-4f11-c997-9e4381650945"
   },
   "outputs": [
    {
     "data": {
      "text/html": [
       "<div>\n",
       "<style scoped>\n",
       "    .dataframe tbody tr th:only-of-type {\n",
       "        vertical-align: middle;\n",
       "    }\n",
       "\n",
       "    .dataframe tbody tr th {\n",
       "        vertical-align: top;\n",
       "    }\n",
       "\n",
       "    .dataframe thead th {\n",
       "        text-align: right;\n",
       "    }\n",
       "</style>\n",
       "<table border=\"1\" class=\"dataframe\">\n",
       "  <thead>\n",
       "    <tr style=\"text-align: right;\">\n",
       "      <th></th>\n",
       "      <th>0</th>\n",
       "      <th>0</th>\n",
       "      <th>1</th>\n",
       "      <th>2</th>\n",
       "      <th>3</th>\n",
       "    </tr>\n",
       "  </thead>\n",
       "  <tbody>\n",
       "    <tr>\n",
       "      <th>0</th>\n",
       "      <td>0.751503</td>\n",
       "      <td>0.751444</td>\n",
       "      <td>0.774101</td>\n",
       "      <td>0.762221</td>\n",
       "      <td>0.762221</td>\n",
       "    </tr>\n",
       "    <tr>\n",
       "      <th>1</th>\n",
       "      <td>0.762782</td>\n",
       "      <td>0.749754</td>\n",
       "      <td>0.768639</td>\n",
       "      <td>0.749969</td>\n",
       "      <td>0.749969</td>\n",
       "    </tr>\n",
       "    <tr>\n",
       "      <th>2</th>\n",
       "      <td>0.776577</td>\n",
       "      <td>0.737763</td>\n",
       "      <td>0.763096</td>\n",
       "      <td>0.756460</td>\n",
       "      <td>0.756460</td>\n",
       "    </tr>\n",
       "    <tr>\n",
       "      <th>3</th>\n",
       "      <td>0.787947</td>\n",
       "      <td>0.779825</td>\n",
       "      <td>0.792642</td>\n",
       "      <td>0.793621</td>\n",
       "      <td>0.793621</td>\n",
       "    </tr>\n",
       "    <tr>\n",
       "      <th>4</th>\n",
       "      <td>0.800522</td>\n",
       "      <td>0.783849</td>\n",
       "      <td>0.793516</td>\n",
       "      <td>0.778908</td>\n",
       "      <td>0.778908</td>\n",
       "    </tr>\n",
       "    <tr>\n",
       "      <th>...</th>\n",
       "      <td>...</td>\n",
       "      <td>...</td>\n",
       "      <td>...</td>\n",
       "      <td>...</td>\n",
       "      <td>...</td>\n",
       "    </tr>\n",
       "    <tr>\n",
       "      <th>937</th>\n",
       "      <td>2.634997</td>\n",
       "      <td>2.823778</td>\n",
       "      <td>2.705300</td>\n",
       "      <td>2.682011</td>\n",
       "      <td>2.682011</td>\n",
       "    </tr>\n",
       "    <tr>\n",
       "      <th>938</th>\n",
       "      <td>2.661797</td>\n",
       "      <td>2.678434</td>\n",
       "      <td>2.645926</td>\n",
       "      <td>2.707001</td>\n",
       "      <td>2.707001</td>\n",
       "    </tr>\n",
       "    <tr>\n",
       "      <th>939</th>\n",
       "      <td>2.669307</td>\n",
       "      <td>2.711643</td>\n",
       "      <td>2.685522</td>\n",
       "      <td>2.688231</td>\n",
       "      <td>2.688231</td>\n",
       "    </tr>\n",
       "    <tr>\n",
       "      <th>940</th>\n",
       "      <td>2.660509</td>\n",
       "      <td>2.667006</td>\n",
       "      <td>2.653600</td>\n",
       "      <td>2.700023</td>\n",
       "      <td>2.700023</td>\n",
       "    </tr>\n",
       "    <tr>\n",
       "      <th>941</th>\n",
       "      <td>2.640833</td>\n",
       "      <td>2.679748</td>\n",
       "      <td>2.686669</td>\n",
       "      <td>2.693397</td>\n",
       "      <td>2.693397</td>\n",
       "    </tr>\n",
       "  </tbody>\n",
       "</table>\n",
       "<p>942 rows × 5 columns</p>\n",
       "</div>"
      ],
      "text/plain": [
       "            0         0         1         2         3\n",
       "0    0.751503  0.751444  0.774101  0.762221  0.762221\n",
       "1    0.762782  0.749754  0.768639  0.749969  0.749969\n",
       "2    0.776577  0.737763  0.763096  0.756460  0.756460\n",
       "3    0.787947  0.779825  0.792642  0.793621  0.793621\n",
       "4    0.800522  0.783849  0.793516  0.778908  0.778908\n",
       "..        ...       ...       ...       ...       ...\n",
       "937  2.634997  2.823778  2.705300  2.682011  2.682011\n",
       "938  2.661797  2.678434  2.645926  2.707001  2.707001\n",
       "939  2.669307  2.711643  2.685522  2.688231  2.688231\n",
       "940  2.660509  2.667006  2.653600  2.700023  2.700023\n",
       "941  2.640833  2.679748  2.686669  2.693397  2.693397\n",
       "\n",
       "[942 rows x 5 columns]"
      ]
     },
     "execution_count": 60,
     "metadata": {},
     "output_type": "execute_result"
    }
   ],
   "source": [
    "df_pred"
   ]
  },
  {
   "cell_type": "markdown",
   "metadata": {},
   "source": [
    "**inverse_transform()** is used to scale back the data to the original representation."
   ]
  },
  {
   "cell_type": "code",
   "execution_count": 61,
   "metadata": {
    "execution": {
     "iopub.execute_input": "2021-07-15T14:12:10.182674Z",
     "iopub.status.busy": "2021-07-15T14:12:10.182028Z",
     "iopub.status.idle": "2021-07-15T14:12:10.191553Z",
     "shell.execute_reply": "2021-07-15T14:12:10.190476Z",
     "shell.execute_reply.started": "2021-07-15T14:12:10.182624Z"
    },
    "id": "noykl7lh9hmT"
   },
   "outputs": [],
   "source": [
    "# To get the original values, the inverse_transform has to be performed.\n",
    "in_trans = scaler.inverse_transform(df_pred)"
   ]
  },
  {
   "cell_type": "code",
   "execution_count": 62,
   "metadata": {
    "execution": {
     "iopub.execute_input": "2021-07-15T14:12:10.195291Z",
     "iopub.status.busy": "2021-07-15T14:12:10.194945Z",
     "iopub.status.idle": "2021-07-15T14:12:10.207652Z",
     "shell.execute_reply": "2021-07-15T14:12:10.206218Z",
     "shell.execute_reply.started": "2021-07-15T14:12:10.195258Z"
    },
    "id": "D2vcu4tBAf4n",
    "outputId": "4f9b26c7-9c94-4643-964d-f28b33dbfda1"
   },
   "outputs": [
    {
     "data": {
      "text/plain": [
       "array([[ 797.14434056,  804.599976  ,  798.030029  ,  801.5       ,\n",
       "         801.5       ],\n",
       "       [ 801.31005607,  803.969971  ,  796.030029  ,  796.969971  ,\n",
       "         796.969971  ],\n",
       "       [ 806.40507197,  799.5       ,  794.        ,  799.369995  ,\n",
       "         799.369995  ],\n",
       "       ...,\n",
       "       [1505.45479722, 1535.329956  , 1498.        , 1513.640015  ,\n",
       "        1513.640015  ],\n",
       "       [1502.20561397, 1518.689941  , 1486.310059  , 1518.        ,\n",
       "        1518.        ],\n",
       "       [1494.93851744, 1523.439941  , 1498.420044  , 1515.550049  ,\n",
       "        1515.550049  ]])"
      ]
     },
     "execution_count": 62,
     "metadata": {},
     "output_type": "execute_result"
    }
   ],
   "source": [
    "in_trans"
   ]
  },
  {
   "cell_type": "code",
   "execution_count": 63,
   "metadata": {
    "execution": {
     "iopub.execute_input": "2021-07-15T14:12:10.210236Z",
     "iopub.status.busy": "2021-07-15T14:12:10.209649Z",
     "iopub.status.idle": "2021-07-15T14:12:10.217602Z",
     "shell.execute_reply": "2021-07-15T14:12:10.216436Z",
     "shell.execute_reply.started": "2021-07-15T14:12:10.210186Z"
    },
    "id": "5eopbjZZBRUs"
   },
   "outputs": [],
   "source": [
    "#Get the last 942 rows to compare the actual opening price and the predicted opening price\n",
    "df_final=df_input[predictions.shape[0]*-1:]"
   ]
  },
  {
   "cell_type": "code",
   "execution_count": 64,
   "metadata": {
    "execution": {
     "iopub.execute_input": "2021-07-15T14:12:10.220117Z",
     "iopub.status.busy": "2021-07-15T14:12:10.219572Z",
     "iopub.status.idle": "2021-07-15T14:12:10.229542Z",
     "shell.execute_reply": "2021-07-15T14:12:10.228445Z",
     "shell.execute_reply.started": "2021-07-15T14:12:10.220066Z"
    },
    "id": "D1VdgBdB-aWE",
    "outputId": "2ce990ca-f48e-4a5a-b220-60b73f60b818"
   },
   "outputs": [],
   "source": [
    "#Add the Predicted Open price into the final dataframe\n",
    "predicted_open = in_trans[:,0].tolist()\n",
    "df_final.insert(5, \"Predicted Open\", predicted_open)"
   ]
  },
  {
   "cell_type": "code",
   "execution_count": 65,
   "metadata": {
    "execution": {
     "iopub.execute_input": "2021-07-15T14:12:10.232179Z",
     "iopub.status.busy": "2021-07-15T14:12:10.231421Z",
     "iopub.status.idle": "2021-07-15T14:12:10.256284Z",
     "shell.execute_reply": "2021-07-15T14:12:10.255106Z",
     "shell.execute_reply.started": "2021-07-15T14:12:10.232065Z"
    },
    "id": "Ym90OS9J_-6O",
    "outputId": "02cee54b-fd0c-45e1-c792-bcfb2e837780"
   },
   "outputs": [
    {
     "data": {
      "text/html": [
       "<div>\n",
       "<style scoped>\n",
       "    .dataframe tbody tr th:only-of-type {\n",
       "        vertical-align: middle;\n",
       "    }\n",
       "\n",
       "    .dataframe tbody tr th {\n",
       "        vertical-align: top;\n",
       "    }\n",
       "\n",
       "    .dataframe thead th {\n",
       "        text-align: right;\n",
       "    }\n",
       "</style>\n",
       "<table border=\"1\" class=\"dataframe\">\n",
       "  <thead>\n",
       "    <tr style=\"text-align: right;\">\n",
       "      <th></th>\n",
       "      <th>Open</th>\n",
       "      <th>High</th>\n",
       "      <th>Low</th>\n",
       "      <th>Close</th>\n",
       "      <th>Adj Close</th>\n",
       "      <th>Predicted Open</th>\n",
       "    </tr>\n",
       "  </thead>\n",
       "  <tbody>\n",
       "    <tr>\n",
       "      <th>3064</th>\n",
       "      <td>798.239990</td>\n",
       "      <td>804.599976</td>\n",
       "      <td>798.030029</td>\n",
       "      <td>801.500000</td>\n",
       "      <td>801.500000</td>\n",
       "      <td>797.144341</td>\n",
       "    </tr>\n",
       "    <tr>\n",
       "      <th>3065</th>\n",
       "      <td>803.299988</td>\n",
       "      <td>803.969971</td>\n",
       "      <td>796.030029</td>\n",
       "      <td>796.969971</td>\n",
       "      <td>796.969971</td>\n",
       "      <td>801.310056</td>\n",
       "    </tr>\n",
       "    <tr>\n",
       "      <th>3066</th>\n",
       "      <td>795.000000</td>\n",
       "      <td>799.500000</td>\n",
       "      <td>794.000000</td>\n",
       "      <td>799.369995</td>\n",
       "      <td>799.369995</td>\n",
       "      <td>806.405072</td>\n",
       "    </tr>\n",
       "    <tr>\n",
       "      <th>3067</th>\n",
       "      <td>804.900024</td>\n",
       "      <td>815.179993</td>\n",
       "      <td>804.820007</td>\n",
       "      <td>813.109985</td>\n",
       "      <td>813.109985</td>\n",
       "      <td>810.604513</td>\n",
       "    </tr>\n",
       "    <tr>\n",
       "      <th>3068</th>\n",
       "      <td>816.679993</td>\n",
       "      <td>816.679993</td>\n",
       "      <td>805.140015</td>\n",
       "      <td>807.669983</td>\n",
       "      <td>807.669983</td>\n",
       "      <td>815.248770</td>\n",
       "    </tr>\n",
       "    <tr>\n",
       "      <th>...</th>\n",
       "      <td>...</td>\n",
       "      <td>...</td>\n",
       "      <td>...</td>\n",
       "      <td>...</td>\n",
       "      <td>...</td>\n",
       "      <td>...</td>\n",
       "    </tr>\n",
       "    <tr>\n",
       "      <th>4001</th>\n",
       "      <td>1550.000000</td>\n",
       "      <td>1577.131958</td>\n",
       "      <td>1505.243042</td>\n",
       "      <td>1511.339966</td>\n",
       "      <td>1511.339966</td>\n",
       "      <td>1492.783167</td>\n",
       "    </tr>\n",
       "    <tr>\n",
       "      <th>4002</th>\n",
       "      <td>1490.310059</td>\n",
       "      <td>1522.949951</td>\n",
       "      <td>1483.500000</td>\n",
       "      <td>1520.579956</td>\n",
       "      <td>1520.579956</td>\n",
       "      <td>1502.681205</td>\n",
       "    </tr>\n",
       "    <tr>\n",
       "      <th>4003</th>\n",
       "      <td>1523.130005</td>\n",
       "      <td>1535.329956</td>\n",
       "      <td>1498.000000</td>\n",
       "      <td>1513.640015</td>\n",
       "      <td>1513.640015</td>\n",
       "      <td>1505.454797</td>\n",
       "    </tr>\n",
       "    <tr>\n",
       "      <th>4004</th>\n",
       "      <td>1500.000000</td>\n",
       "      <td>1518.689941</td>\n",
       "      <td>1486.310059</td>\n",
       "      <td>1518.000000</td>\n",
       "      <td>1518.000000</td>\n",
       "      <td>1502.205614</td>\n",
       "    </tr>\n",
       "    <tr>\n",
       "      <th>4005</th>\n",
       "      <td>1521.619995</td>\n",
       "      <td>1523.439941</td>\n",
       "      <td>1498.420044</td>\n",
       "      <td>1515.550049</td>\n",
       "      <td>1515.550049</td>\n",
       "      <td>1494.938517</td>\n",
       "    </tr>\n",
       "  </tbody>\n",
       "</table>\n",
       "<p>942 rows × 6 columns</p>\n",
       "</div>"
      ],
      "text/plain": [
       "             Open         High          Low        Close    Adj Close  \\\n",
       "3064   798.239990   804.599976   798.030029   801.500000   801.500000   \n",
       "3065   803.299988   803.969971   796.030029   796.969971   796.969971   \n",
       "3066   795.000000   799.500000   794.000000   799.369995   799.369995   \n",
       "3067   804.900024   815.179993   804.820007   813.109985   813.109985   \n",
       "3068   816.679993   816.679993   805.140015   807.669983   807.669983   \n",
       "...           ...          ...          ...          ...          ...   \n",
       "4001  1550.000000  1577.131958  1505.243042  1511.339966  1511.339966   \n",
       "4002  1490.310059  1522.949951  1483.500000  1520.579956  1520.579956   \n",
       "4003  1523.130005  1535.329956  1498.000000  1513.640015  1513.640015   \n",
       "4004  1500.000000  1518.689941  1486.310059  1518.000000  1518.000000   \n",
       "4005  1521.619995  1523.439941  1498.420044  1515.550049  1515.550049   \n",
       "\n",
       "      Predicted Open  \n",
       "3064      797.144341  \n",
       "3065      801.310056  \n",
       "3066      806.405072  \n",
       "3067      810.604513  \n",
       "3068      815.248770  \n",
       "...              ...  \n",
       "4001     1492.783167  \n",
       "4002     1502.681205  \n",
       "4003     1505.454797  \n",
       "4004     1502.205614  \n",
       "4005     1494.938517  \n",
       "\n",
       "[942 rows x 6 columns]"
      ]
     },
     "execution_count": 65,
     "metadata": {},
     "output_type": "execute_result"
    }
   ],
   "source": [
    "df_final"
   ]
  },
  {
   "cell_type": "markdown",
   "metadata": {},
   "source": [
    "# Visualize the Actual values and Predicted values"
   ]
  },
  {
   "cell_type": "code",
   "execution_count": 66,
   "metadata": {
    "execution": {
     "iopub.execute_input": "2021-07-15T14:12:10.258853Z",
     "iopub.status.busy": "2021-07-15T14:12:10.258296Z",
     "iopub.status.idle": "2021-07-15T14:12:10.514704Z",
     "shell.execute_reply": "2021-07-15T14:12:10.513757Z",
     "shell.execute_reply.started": "2021-07-15T14:12:10.258803Z"
    },
    "id": "Ig7S76aZApyp",
    "outputId": "5bd338b3-d7b5-4b0f-bfcc-33cd3b97fa7f"
   },
   "outputs": [
    {
     "data": {
      "image/png": "[encoded data removed]",
      "text/plain": [
       "<Figure size 720x576 with 1 Axes>"
      ]
     },
     "metadata": {
      "needs_background": "light"
     },
     "output_type": "display_data"
    }
   ],
   "source": [
    "df_final[['Open','Predicted Open']].plot();"
   ]
  }
 ],
 "metadata": {
  "kernelspec": {
   "display_name": "Python 3.8.0 64-bit",
   "language": "python",
   "name": "python38064bitade010a64602479d8e1daa6fbf95ad84"
  },
  "language_info": {
   "codemirror_mode": {
    "name": "ipython",
    "version": 3
   },
   "file_extension": ".py",
   "mimetype": "text/x-python",
   "name": "python",
   "nbconvert_exporter": "python",
   "pygments_lexer": "ipython3",
   "version": "3.8.0"
  }
 },
 "nbformat": 4,
 "nbformat_minor": 4
}
