{
 "cells": [
  {
   "cell_type": "markdown",
   "metadata": {
    "colab_type": "text"
   },
   "source": [
    "# Multivariate Time Series Forecasting using LSTM\n",
    "\n",
    "**Author:** [Rohit Sahoo](https://www.linkedin.com/in/rohit-sahoo/)<br>\n",
    "**Date created:** 2021/07/17<br>\n",
    "**Last modified:** 2021/07/17<br>\n",
    "**Description:** Multivariate Time Series Forecasting on stock market data using LSTM."
   ]
  },
  {
   "cell_type": "markdown",
   "metadata": {
    "colab_type": "text"
   },
   "source": [
    "## Introduction\n",
    "Time-Series forecasting means predicting the future dependent variable (y) based on the\n",
    "past independent variable (x). If the model predicts a dependent variable (y) based on\n",
    "one independent variable (x), it is called univariate forecasting. Whereas, In\n",
    "Multivariate forecasting, the model predicts a dependent variable (y) based on more than\n",
    "one independent variable (x).\n",
    "\n",
    "This Example implements a time series model for Google's stock market data. In this\n",
    "example, Multivariate time series forecasting is performed by determining the opening\n",
    "price of the stock using the historical opening, closing, highest, lowest and the\n",
    "adjusted closing price. This example uses the LSTM (Long Short-Term Memory) model to\n",
    "predict the opening price of the stock by taking the input shape defined by the window\n",
    "length and these 5 features.\n",
    "\n",
    "A univariable forecast model reduces this complexity to a minimum \u2013 a single factor and\n",
    "ignores the other dimensions such as prediction of the opening price of the stock is\n",
    "based only on the historical opening price. Whereas, A multivariate stock market\n",
    "prediction model can consider the relationship between multiple variables. They offer a\n",
    "more detailed abstraction of reality than univariate models. Multivariate models thus\n",
    "tend to provide more accurate predictions than univariate models."
   ]
  },
  {
   "cell_type": "markdown",
   "metadata": {
    "colab_type": "text"
   },
   "source": [
    "## Setup"
   ]
  },
  {
   "cell_type": "code",
   "execution_count": 0,
   "metadata": {
    "colab_type": "code"
   },
   "outputs": [],
   "source": [
    "import os\n",
    "\n",
    "os.environ[\"TF_CPP_MIN_LOG_LEVEL\"] = \"3\"\n",
    "import pandas as pd\n",
    "import matplotlib as mpl\n",
    "import matplotlib.pyplot as plt\n",
    "from sklearn.model_selection import train_test_split\n",
    "from tensorflow.keras.preprocessing.sequence import TimeseriesGenerator\n",
    "from sklearn.preprocessing import StandardScaler\n",
    "import tensorflow as tf"
   ]
  },
  {
   "cell_type": "markdown",
   "metadata": {
    "colab_type": "text"
   },
   "source": [
    "## Load the Data"
   ]
  },
  {
   "cell_type": "markdown",
   "metadata": {
    "colab_type": "text"
   },
   "source": [
    "This example uses Google's stock market dataset downloaded from [Yahoo\n",
    "Finance](https://in.finance.yahoo.com/quote/GOOG/history?period1=1092960000&period2=1594944000&interval=1d&filter=history&frequency=1d&includeAdjustedClose=true)\n",
    "\n",
    "\n",
    "**Time-Frame Considered:** 16 Years of data starting from 2004/08/19 to 2020/07/17.\n",
    "\n",
    "**Structure of Dataset**\n",
    "\n",
    "1. Date - specifies trading date\n",
    "2. Open - opening price\n",
    "3. High - maximum price during the day\n",
    "4. Low - minimum price during the day\n",
    "5. Close - close price adjusted for splits\n",
    "6. Adj Close - adjusted close price adjusted for both dividends and splits\n",
    "7. Volume - the number of shares that changed hands during a given day"
   ]
  },
  {
   "cell_type": "code",
   "execution_count": 0,
   "metadata": {
    "colab_type": "code"
   },
   "outputs": [],
   "source": [
    "df = pd.read_csv(\n",
    "    \"https://raw.githubusercontent.com/rohit-sahoo/Multivariate_\"\n",
    "    + \"Timeseries_Forecasting_using_LSTM/master/GOOG.csv\"\n",
    ")"
   ]
  },
  {
   "cell_type": "markdown",
   "metadata": {
    "colab_type": "text"
   },
   "source": [
    "Quick look at the Google Stock Market Dataset."
   ]
  },
  {
   "cell_type": "code",
   "execution_count": 0,
   "metadata": {
    "colab_type": "code"
   },
   "outputs": [],
   "source": [
    "df.head()"
   ]
  },
  {
   "cell_type": "markdown",
   "metadata": {
    "colab_type": "text"
   },
   "source": [
    "Check the data type of each column in dataframe."
   ]
  },
  {
   "cell_type": "code",
   "execution_count": 0,
   "metadata": {
    "colab_type": "code"
   },
   "outputs": [],
   "source": [
    "df.dtypes"
   ]
  },
  {
   "cell_type": "markdown",
   "metadata": {
    "colab_type": "text"
   },
   "source": [
    "The date column provided in the dataset is of object type, it has to be changed into\n",
    "datetime format."
   ]
  },
  {
   "cell_type": "code",
   "execution_count": 0,
   "metadata": {
    "colab_type": "code"
   },
   "outputs": [],
   "source": [
    "df[\"Date\"] = pd.to_datetime(df[\"Date\"], infer_datetime_format=True)\n",
    "\n",
    "df.describe()  # concise summary of the dataframe"
   ]
  },
  {
   "cell_type": "markdown",
   "metadata": {
    "colab_type": "text"
   },
   "source": [
    "**Visualizing the features**"
   ]
  },
  {
   "cell_type": "code",
   "execution_count": 0,
   "metadata": {
    "colab_type": "code"
   },
   "outputs": [],
   "source": [
    "mpl.rcParams[\"figure.figsize\"] = (10, 8)\n",
    "mpl.rcParams[\"axes.grid\"] = False\n",
    "df.set_index(\"Date\")[[\"Open\", \"High\", \"Low\", \"Close\", \"Adj Close\"]].plot(subplots=True)"
   ]
  },
  {
   "cell_type": "markdown",
   "metadata": {
    "colab_type": "text"
   },
   "source": [
    "Taking 5 features as the input to the time series - open, high, low, close, Adjusted close"
   ]
  },
  {
   "cell_type": "code",
   "execution_count": 0,
   "metadata": {
    "colab_type": "code"
   },
   "outputs": [],
   "source": [
    "df_input = df[[\"Open\", \"High\", \"Low\", \"Close\", \"Adj Close\",]]"
   ]
  },
  {
   "cell_type": "markdown",
   "metadata": {
    "colab_type": "text"
   },
   "source": [
    "## Data Preprocessing\n",
    "### 1. Standardization of data\n",
    "\n",
    "**StandardScaler()**\n",
    "\n",
    "LSTM uses sigmoid and tanh that are sensitive to magnitude so values need to be\n",
    "normalized.\n",
    "\n",
    "Since there are 5 features used in this example for prediction and have different scales,\n",
    "they are Standardized to have a common scale while building the model.\n",
    "\n",
    "StandardScaler() will normalize the features i.e. each column of X, INDIVIDUALLY, so that\n",
    "each column/feature/variable will have mean = 0 and standard deviation = 1"
   ]
  },
  {
   "cell_type": "code",
   "execution_count": 0,
   "metadata": {
    "colab_type": "code"
   },
   "outputs": [],
   "source": [
    "scaler = StandardScaler()\n",
    "data_scaled = scaler.fit_transform(df_input)\n",
    "data_scaled"
   ]
  },
  {
   "cell_type": "markdown",
   "metadata": {
    "colab_type": "text"
   },
   "source": [
    "**Set the features and target for the model**\n",
    "\n",
    "1. features = Open, High, Low, Close, Adj close\n",
    "2. target = Open"
   ]
  },
  {
   "cell_type": "code",
   "execution_count": 0,
   "metadata": {
    "colab_type": "code"
   },
   "outputs": [],
   "source": [
    "features = data_scaled\n",
    "target = data_scaled[:, 0]  # Target Column - Open Price"
   ]
  },
  {
   "cell_type": "markdown",
   "metadata": {
    "colab_type": "text"
   },
   "source": [
    "Split the data into training and testing."
   ]
  },
  {
   "cell_type": "code",
   "execution_count": 0,
   "metadata": {
    "colab_type": "code"
   },
   "outputs": [],
   "source": [
    "x_train, x_test, y_train, y_test = train_test_split(\n",
    "    features, target, test_size=0.25, random_state=123, shuffle=False\n",
    ")\n",
    "\n",
    "print(x_train.shape)"
   ]
  },
  {
   "cell_type": "markdown",
   "metadata": {
    "colab_type": "text"
   },
   "source": [
    "**Training Data**\n",
    "\n",
    "1. Size: 3004\n",
    "2. features: 5"
   ]
  },
  {
   "cell_type": "code",
   "execution_count": 0,
   "metadata": {
    "colab_type": "code"
   },
   "outputs": [],
   "source": [
    "print(x_test.shape)"
   ]
  },
  {
   "cell_type": "markdown",
   "metadata": {
    "colab_type": "text"
   },
   "source": [
    "**Testing Data**\n",
    "\n",
    "1. Size: 1002\n",
    "2. features: 5"
   ]
  },
  {
   "cell_type": "markdown",
   "metadata": {
    "colab_type": "text"
   },
   "source": [
    "### 2. TimeseriesGenerator\n",
    "\n",
    "**TimeseriesGenerator()** is used to automatically transform both univariate and\n",
    "multivariate time series data into samples, ready to train deep learning models.\n",
    "\n",
    "In this example, Keras TimeseriesGenerator is used for preparing time series data for\n",
    "modelling with deep learning methods.\n",
    "\n",
    "Arguments that are passed to TimeseriesGenerator:\n",
    "1. features: Passing the scaled multivariate data\n",
    "2. target: Passing the scaled target column\n",
    "3. length: It is the window_length\n",
    "4. Sampling_rate: Period between successive individual timesteps within sequences.\n",
    "5. batch_size: Number of time-series samples in each batch\n",
    "\n",
    "To know more about TimeseriesGenerator, check the Keras documentation:\n",
    "[TimeseriesGenerator](https://keras.io/api/preprocessing/timeseries/)"
   ]
  },
  {
   "cell_type": "code",
   "execution_count": 0,
   "metadata": {
    "colab_type": "code"
   },
   "outputs": [],
   "source": [
    "# This code block is for the understanding the output of TimeseriesGenerator\n",
    "print(\"Input Features\\n\", data_scaled[0:3])\n",
    "print(\"\\nTimeseriesGenerator\")\n",
    "print(TimeseriesGenerator(features, target, length=2, sampling_rate=1, batch_size=1)[0])"
   ]
  },
  {
   "cell_type": "markdown",
   "metadata": {
    "colab_type": "text"
   },
   "source": [
    "From the above output, it can be observed that the opening price of 3rd day is made as\n",
    "the target value for the input features of first two days."
   ]
  },
  {
   "cell_type": "markdown",
   "metadata": {
    "colab_type": "text"
   },
   "source": [
    "## Build the model"
   ]
  },
  {
   "cell_type": "markdown",
   "metadata": {
    "colab_type": "text"
   },
   "source": [
    "### 1. Set the parameters"
   ]
  },
  {
   "cell_type": "code",
   "execution_count": 0,
   "metadata": {
    "colab_type": "code"
   },
   "outputs": [],
   "source": [
    "win_length = 60  # window length\n",
    "batch_size = 62\n",
    "num_features = 5\n",
    "train_generator = TimeseriesGenerator(\n",
    "    x_train, y_train, length=win_length, sampling_rate=1, batch_size=batch_size\n",
    ")\n",
    "test_generator = TimeseriesGenerator(\n",
    "    x_test, y_test, length=win_length, sampling_rate=1, batch_size=batch_size\n",
    ")"
   ]
  },
  {
   "cell_type": "markdown",
   "metadata": {
    "colab_type": "text"
   },
   "source": [
    "### 2. Build the model using LSTM"
   ]
  },
  {
   "cell_type": "markdown",
   "metadata": {
    "colab_type": "text"
   },
   "source": [
    "**Leaky ReLU**\n",
    "\n",
    "Leaky ReLU function is an improved version of the ReLU activation function. As for the\n",
    "ReLU activation function, the gradient is 0 for all the values of inputs that are less\n",
    "than zero, which would deactivate the neurons in that region and may cause a dying ReLU\n",
    "problem.\n",
    "\n",
    "Leaky ReLU is defined to address this problem. Instead of defining the ReLU activation\n",
    "function as 0 for negative values of inputs(x), we define it as an extremely small linear\n",
    "component of x. Here is the formula for this activation function:\n",
    "\n",
    "f(x)=max(0.01*x , x)\n",
    "\n",
    "For reference, Relu formula: f(x) = max(0,x)\n",
    "\n",
    "This function returns x if it receives any positive input, but for any negative value of\n",
    "x, it returns a really small value which is 0.01 times x.\n",
    "\n",
    "**Why LSTM?**\n",
    "\n",
    "Recurrent neural networks are much more flexible and much better suited to time series\n",
    "forecasting than the linear models usually applied.\n",
    "\n",
    "Recurrent neural networks, of which LSTMs (\u201clong short-term memory\u201d units) are the most\n",
    "powerful and well-known subset, are a type of artificial neural network designed to\n",
    "recognize patterns in sequences of data, such as numerical times series data."
   ]
  },
  {
   "cell_type": "code",
   "execution_count": 0,
   "metadata": {
    "colab_type": "code"
   },
   "outputs": [],
   "source": [
    "model = tf.keras.Sequential()\n",
    "model.add(\n",
    "    tf.keras.layers.LSTM(\n",
    "        256, input_shape=(win_length, num_features), return_sequences=True\n",
    "    )\n",
    ")\n",
    "model.add(tf.keras.layers.LeakyReLU(alpha=0.5))\n",
    "model.add(tf.keras.layers.LSTM(128, return_sequences=True))\n",
    "model.add(tf.keras.layers.LeakyReLU(alpha=0.5))\n",
    "model.add(tf.keras.layers.Dropout(0.3))\n",
    "model.add(tf.keras.layers.LSTM(64, return_sequences=False))\n",
    "model.add(tf.keras.layers.Dropout(0.3))\n",
    "model.add(tf.keras.layers.Dense(1))"
   ]
  },
  {
   "cell_type": "markdown",
   "metadata": {
    "colab_type": "text"
   },
   "source": [
    "**summary of the model**"
   ]
  },
  {
   "cell_type": "code",
   "execution_count": 0,
   "metadata": {
    "colab_type": "code"
   },
   "outputs": [],
   "source": [
    "model.summary()"
   ]
  },
  {
   "cell_type": "markdown",
   "metadata": {
    "colab_type": "text"
   },
   "source": [
    "## Train the model"
   ]
  },
  {
   "cell_type": "code",
   "execution_count": 0,
   "metadata": {
    "colab_type": "code"
   },
   "outputs": [],
   "source": [
    "model.compile(\n",
    "    loss=tf.losses.MeanSquaredError(),\n",
    "    optimizer=tf.optimizers.Adam(),\n",
    "    metrics=[tf.metrics.MeanAbsoluteError()],\n",
    ")\n",
    "\n",
    "history = model.fit(\n",
    "    train_generator, epochs=50, validation_data=test_generator, shuffle=False\n",
    ")"
   ]
  },
  {
   "cell_type": "markdown",
   "metadata": {
    "colab_type": "text"
   },
   "source": [
    "## Evaluate model on Test data"
   ]
  },
  {
   "cell_type": "markdown",
   "metadata": {
    "colab_type": "text"
   },
   "source": [
    "### 1. Visualize the training and validation loss"
   ]
  },
  {
   "cell_type": "code",
   "execution_count": 0,
   "metadata": {
    "colab_type": "code"
   },
   "outputs": [],
   "source": [
    "plt.plot(history.history[\"mean_absolute_error\"], label=\"Training MAE\")\n",
    "plt.plot(history.history[\"val_mean_absolute_error\"], label=\"Validation MAE\")\n",
    "plt.legend()\n",
    "plt.show()"
   ]
  },
  {
   "cell_type": "markdown",
   "metadata": {
    "colab_type": "text"
   },
   "source": [
    "### 2. Test Loss and MAE"
   ]
  },
  {
   "cell_type": "code",
   "execution_count": 0,
   "metadata": {
    "colab_type": "code"
   },
   "outputs": [],
   "source": [
    "test_loss, test_mae = model.evaluate(test_generator, verbose=0)\n",
    "print(\"Test Loss:\", test_loss)\n",
    "print(\"Test MAE:\", test_mae)"
   ]
  },
  {
   "cell_type": "markdown",
   "metadata": {
    "colab_type": "text"
   },
   "source": [
    "## Predictions"
   ]
  },
  {
   "cell_type": "code",
   "execution_count": 0,
   "metadata": {
    "colab_type": "code"
   },
   "outputs": [],
   "source": [
    "predictions = model.predict(test_generator)\n",
    "\n",
    "print(predictions.shape[0])"
   ]
  },
  {
   "cell_type": "markdown",
   "metadata": {
    "colab_type": "text"
   },
   "source": [
    "The shape of output is 942 and not 1002 when compared with x_test, since the first 60\n",
    "days are used to determine the next day."
   ]
  },
  {
   "cell_type": "code",
   "execution_count": 0,
   "metadata": {
    "colab_type": "code"
   },
   "outputs": [],
   "source": [
    "# Consider only the 942 values after the first 60 values\n",
    "print(x_test[:, 1:][win_length:])"
   ]
  },
  {
   "cell_type": "markdown",
   "metadata": {
    "colab_type": "text"
   },
   "source": [
    "Concatenate the prediction dataframe with the x_test"
   ]
  },
  {
   "cell_type": "code",
   "execution_count": 0,
   "metadata": {
    "colab_type": "code"
   },
   "outputs": [],
   "source": [
    "df_pred = pd.concat(\n",
    "    [pd.DataFrame(predictions), pd.DataFrame(x_test[:, 1:][win_length:])], axis=1\n",
    ")\n",
    "\n",
    "df_pred"
   ]
  },
  {
   "cell_type": "markdown",
   "metadata": {
    "colab_type": "text"
   },
   "source": [
    "**inverse_transform()** is used to scale back the data to the original representation."
   ]
  },
  {
   "cell_type": "code",
   "execution_count": 0,
   "metadata": {
    "colab_type": "code"
   },
   "outputs": [],
   "source": [
    "# To get the original values, the inverse_transform has to be performed.\n",
    "in_trans = scaler.inverse_transform(df_pred)\n",
    "\n",
    "print(in_trans)"
   ]
  },
  {
   "cell_type": "markdown",
   "metadata": {
    "colab_type": "text"
   },
   "source": [
    "Take only last 942 rows to compare the actual opening and the predicted opening price,\n",
    "since first 60 days are used to predict the upcoming day."
   ]
  },
  {
   "cell_type": "code",
   "execution_count": 0,
   "metadata": {
    "colab_type": "code"
   },
   "outputs": [],
   "source": [
    "df_final = df_input[predictions.shape[0] * -1 :]\n",
    "\n",
    "# Add the Predicted Open price into the final dataframe\n",
    "predicted_open = in_trans[:, 0].tolist()\n",
    "df_final.insert(5, \"Predicted Open\", predicted_open)\n",
    "\n",
    "df_final"
   ]
  },
  {
   "cell_type": "markdown",
   "metadata": {
    "colab_type": "text"
   },
   "source": [
    "## Visualize the Predictions"
   ]
  },
  {
   "cell_type": "code",
   "execution_count": 0,
   "metadata": {
    "colab_type": "code"
   },
   "outputs": [],
   "source": [
    "df_final[[\"Open\", \"Predicted Open\"]].plot()"
   ]
  }
 ],
 "metadata": {
  "colab": {
   "collapsed_sections": [],
   "name": "multivariate_timeseries_forecasting_using_lstm",
   "private_outputs": false,
   "provenance": [],
   "toc_visible": true
  },
  "kernelspec": {
   "display_name": "Python 3",
   "language": "python",
   "name": "python3"
  },
  "language_info": {
   "codemirror_mode": {
    "name": "ipython",
    "version": 3
   },
   "file_extension": ".py",
   "mimetype": "text/x-python",
   "name": "python",
   "nbconvert_exporter": "python",
   "pygments_lexer": "ipython3",
   "version": "3.7.0"
  }
 },
 "nbformat": 4,
 "nbformat_minor": 0
}